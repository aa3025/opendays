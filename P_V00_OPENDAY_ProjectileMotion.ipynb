{
  "nbformat": 4,
  "nbformat_minor": 0,
  "metadata": {
    "colab": {
      "provenance": [],
      "include_colab_link": true
    },
    "kernelspec": {
      "name": "python3",
      "display_name": "Python 3"
    },
    "language_info": {
      "name": "python"
    }
  },
  "cells": [
    {
      "cell_type": "markdown",
      "metadata": {
        "id": "view-in-github",
        "colab_type": "text"
      },
      "source": [
        "<a href=\"https://colab.research.google.com/github/aa3025/opendays/blob/main/P_V00_OPENDAY_ProjectileMotion.ipynb\" target=\"_parent\"><img src=\"https://colab.research.google.com/assets/colab-badge.svg\" alt=\"Open In Colab\"/></a>"
      ]
    },
    {
      "cell_type": "markdown",
      "metadata": {
        "id": "hsm9p0qQTW9B"
      },
      "source": [
        "**Open day activity : Projectile motion**\n",
        "\n",
        "During this session we will determine the total energy given by a simple projectile laucher. \n",
        "\n",
        "We will use:\n",
        "1.   simple physical equations\n",
        "2.   a simple experimental set up\n",
        "3.   some mathematical reasoning\n",
        "4.   simple programing and data processing."
      ]
    },
    {
      "cell_type": "code",
      "source": [
        "from google.colab import drive\n",
        "drive.mount('/content/drive')"
      ],
      "metadata": {
        "id": "p4PIVqcQWZ7R"
      },
      "execution_count": null,
      "outputs": []
    },
    {
      "cell_type": "markdown",
      "metadata": {
        "id": "8JkaidqtUZrN"
      },
      "source": [
        "You may already know that the trajectory of a projectile is given by a parabola:\n",
        "for which the mathematical equations is $y(x)=ax^2+bx$.\n",
        "\n",
        "For now, the parameters $a$ and $b$ are unknown to us, but not for long. We aim to find out a bit more about those.\n",
        "\n",
        "\n",
        "We call $t_i$ the time of impact at which the projectil hits the ground. \n",
        "\n",
        "\n",
        "**Question 1**: Try to measure the position of impact $x(t_i)$ (see [illustration](https://www.desmos.com/calculator/0eaumb7dch)).\n",
        "Once we know the value of $x_i$, what can we say about the parameters $a$ and $b$?\n",
        "\n",
        "\n",
        "**Question 2**: Enter the value of $x_i$ you have measured in the following [graph](https://www.desmos.com/calculator/bvzb8tejhx). You can play around with the parameter $a$ to see how this changes the trajectory. What could you measure to completely determine the trajectory of the projectile ?\n",
        "\n",
        "\n",
        "\n"
      ]
    },
    {
      "cell_type": "markdown",
      "metadata": {
        "id": "dZs7ukJpYV5Y"
      },
      "source": [
        "In fact, we have two formulae which gives us the time of impact $t_i$ and the position of the impact $x(t_i)$:\n",
        "1.   $t_i=2v_0\\sin(\\theta)/g$ where $g$ is the gravity constant on earth\n",
        "2.   $x(t_i)=v_0 \\cos(\\theta) t_i$.\n",
        "\n",
        "In both forumlae we have $v_0$ which is the initial velocity of the projectile.\n",
        "\n",
        "\n",
        "**Question 3:**: Using the two formulae can you isolate $v_0^2$ on one side of the equation? You should be able to get to\n",
        "$$\n",
        "v_0^2=\\frac{gx(t_i)}{2\\cos(\\theta)\\sin(\\theta)}.\n",
        "$$\n",
        "\n",
        "\n",
        "This equation is very important to us. It tells us that if we can measure $x(t_i)$ and $\\theta$ then we can predict what is the initial velocity $v_0$.\n"
      ]
    },
    {
      "cell_type": "markdown",
      "metadata": {
        "id": "O9RESdd_cAP0"
      },
      "source": [
        "\n",
        "\n",
        "**Question 4**: Measure the position $x(t_i)$ several time (5 to 10 times) and insert every measurement result in the table bellow."
      ]
    },
    {
      "cell_type": "code",
      "metadata": {
        "id": "jFamxiIMcFoB"
      },
      "source": [
        "import math\n",
        "\n",
        "# write in the table (x_values) below all the measurement values (see example_table)\n",
        "example_table = [ 1.2 , 1.21 , 1.23 , 0.99 ,  1.232 ] # this is an example of table\n",
        "\n",
        "x_values = [ ]"
      ],
      "execution_count": null,
      "outputs": []
    },
    {
      "cell_type": "markdown",
      "metadata": {
        "id": "l-9HOOpdSaGx"
      },
      "source": [
        "**Question 5**: Measure the angle of the projectil laucher and enter it in the code below"
      ]
    },
    {
      "cell_type": "code",
      "metadata": {
        "id": "b8VFEdsYMEiN",
        "colab": {
          "base_uri": "https://localhost:8080/"
        },
        "outputId": "98a01c08-6277-497a-ed49-d158b1065e4c"
      },
      "source": [
        "# Enter the value of the angle theta (in degree)\n",
        "# for example theta = 85\n",
        "global theta\n",
        "theta = 0\n",
        "# the next line is simply converting theta from degree to radian \n",
        "theta = theta * math.pi / 180 \n",
        "print(\"the angle theta is now expressed in radian=\", theta)"
      ],
      "execution_count": null,
      "outputs": [
        {
          "output_type": "stream",
          "name": "stdout",
          "text": [
            "the angle theta is now expressed in radian= 0.0\n"
          ]
        }
      ]
    },
    {
      "cell_type": "markdown",
      "metadata": {
        "id": "DjcGFIy0NJJE"
      },
      "source": [
        "In the next piece of code (written in python) we want you to calculate the square velocity $v_0^2$ for each measurements you have input in the table x_values.\n",
        "\n",
        "**Question 6**: \n",
        "1.   We need you to enter the value of the gravity constant $g$.\n",
        "2.   We define the function \"v02\" which calculate the $v_0^2$ if you give the value $x(t_i)$. Use this function to calculate $v_0^2$ if $x(t_i)=4$ meters.\n",
        "3.   We have also defined the function \"create_new_table\" which using \"table_1\" gives you a new table by applying a function \"func\" on each element of \"table_1\". Can you use those two functions to create a new table which contains the squared velocity for all measurments?\n",
        "\n"
      ]
    },
    {
      "cell_type": "code",
      "metadata": {
        "id": "KNUuKnH-NicK"
      },
      "source": [
        "# Question 6.1: enter the correct gravity constant g\n",
        "global g\n",
        "g = 0"
      ],
      "execution_count": null,
      "outputs": []
    },
    {
      "cell_type": "code",
      "metadata": {
        "id": "ErPb9x6ouot7"
      },
      "source": [
        "# here we define the function v02\n",
        "def v02( x ) :\n",
        "    return g * x / ( 2 * math.cos( theta ) * math.sin( theta ) ) \n",
        "#\n",
        "\n",
        "# Question 6.2: Use this function to calculate v02 if x=4 meters.\n",
        "# ...\n",
        "\n"
      ],
      "execution_count": null,
      "outputs": []
    },
    {
      "cell_type": "code",
      "metadata": {
        "id": "H3E_11w0u66i"
      },
      "source": [
        "# here we define the function 'create_new_table'\n",
        "# this function takes 'table_1' and another function 'func'\n",
        "# to give you a new table\n",
        "def create_new_table( table_1 , func ):\n",
        "    table_2 = [ ]\n",
        "    for ii in table_1 :\n",
        "        table_2 = table_2 + [ func( ii ) ]\n",
        "    return table_2\n",
        "#  \n",
        "\n",
        "# Question 6.3: Can you write your own code\n",
        "# to create a new table (lets call it v_0Square_values) \n",
        "# containing the squared velocity for all measurments?\n",
        "# ...\n",
        "\n"
      ],
      "execution_count": null,
      "outputs": []
    },
    {
      "cell_type": "markdown",
      "metadata": {
        "id": "Oz6xlTsXPNcE"
      },
      "source": [
        "The next piece of code will calculate the energy using the formula $E=mv_0^2/2$ for each measurements.\n",
        "\n",
        "**Question 7**:  First we needs you to enter the value of the mass $m$ of the projectile."
      ]
    },
    {
      "cell_type": "code",
      "metadata": {
        "id": "R33pF2xzPmlW"
      },
      "source": [
        "# enter the mass m in kg\n",
        "global m\n",
        "m = 0\n",
        "\n",
        "def energy( v2 ) :\n",
        "    return m * v2 / 2.0\n",
        "#\n",
        "\n",
        "# Can you create a small piece of code to create a new table (lets call it Energy_values)\n",
        "#  shownig the energy values for each measurment taken?\n",
        "# ...\n",
        "\n"
      ],
      "execution_count": null,
      "outputs": []
    },
    {
      "cell_type": "markdown",
      "metadata": {
        "id": "U_QpL59NQfsu"
      },
      "source": [
        "**Average Energy**: \n",
        "\n",
        "We now want to calculate the average energy. We want you to try to write this python code by your self. You can try to use the function (sum_the) which is defined below. It takes a table and give you the sum of all numbers in this table. See example."
      ]
    },
    {
      "cell_type": "code",
      "metadata": {
        "colab": {
          "base_uri": "https://localhost:8080/"
        },
        "id": "Cq1zUBAPP8Kh",
        "outputId": "8ed1ef9e-47df-4f53-85fb-5997d1dfe4b1"
      },
      "source": [
        "def sum_the( table ) :\n",
        "    sum = 0\n",
        "    for x in table :\n",
        "        sum = sum + x\n",
        "    return sum\n",
        "#\n",
        "\n",
        "table_example = [ -3 , 0 , 1 , 2 , 3 ]\n",
        "\n",
        "print( sum_the( table_example ) )"
      ],
      "execution_count": null,
      "outputs": [
        {
          "output_type": "stream",
          "name": "stdout",
          "text": [
            "3\n"
          ]
        }
      ]
    },
    {
      "cell_type": "code",
      "metadata": {
        "id": "33LX3hrgQ-mn"
      },
      "source": [
        "# This is where we would like you to try to write your own code \n",
        "# to calculte the average energy\n",
        "# ..."
      ],
      "execution_count": null,
      "outputs": []
    },
    {
      "cell_type": "code",
      "metadata": {
        "id": "IGzHair0TJ_G"
      },
      "source": [],
      "execution_count": null,
      "outputs": []
    },
    {
      "cell_type": "markdown",
      "metadata": {
        "id": "kQ6TW-SC9jPV"
      },
      "source": [
        "Finally, we can also estimate the maximal height which can be reached using the formula\n",
        "\n",
        "$h_{max}=\\frac{E_0}{gm}-\\frac{v_0^2\\cos(\\theta)^2}{2g}$\n",
        "\n",
        "Can you estimate this height? Try to confirm it with the experimental set up"
      ]
    },
    {
      "cell_type": "code",
      "metadata": {
        "id": "00VGHXOA9rGt"
      },
      "source": [],
      "execution_count": null,
      "outputs": []
    }
  ]
}