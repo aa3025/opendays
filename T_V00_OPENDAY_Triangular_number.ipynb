{
  "nbformat": 4,
  "nbformat_minor": 0,
  "metadata": {
    "colab": {
      "provenance": [],
      "include_colab_link": true
    },
    "kernelspec": {
      "name": "python3",
      "display_name": "Python 3"
    },
    "language_info": {
      "name": "python"
    }
  },
  "cells": [
    {
      "cell_type": "markdown",
      "metadata": {
        "id": "view-in-github",
        "colab_type": "text"
      },
      "source": [
        "<a href=\"https://colab.research.google.com/github/aa3025/opendays/blob/main/T_V00_OPENDAY_Triangular_number.ipynb\" target=\"_parent\"><img src=\"https://colab.research.google.com/assets/colab-badge.svg\" alt=\"Open In Colab\"/></a>"
      ]
    },
    {
      "cell_type": "markdown",
      "metadata": {
        "id": "20oM0QYdAId2"
      },
      "source": [
        "\n",
        "**Triangular Numbers**\n",
        "\n",
        "\n",
        "We are investigating the triangular numbers using python programing on Google collab.\n",
        "\n",
        "A triangular number is a number which you can represent by placing dots in a triangular shape.\n",
        "\n",
        "For example 6 is a triangular number, since I can arrange $6$ dots in a triangle like this:\n",
        "\n",
        "$\\circ\\\\\n",
        "\\circ\\ \\circ\\\\\n",
        "\\circ\\ \\ \\circ\\ \\ \\circ$\n",
        "\n",
        "\n",
        "\n",
        "---\n",
        "The same way, we can arrange $3$ dots in a triangle like this:\n",
        "\n",
        "$\\circ\\\\\n",
        "\\circ\\ \\circ$\n",
        "\n",
        "---\n",
        "And $10$ is also a triangle number:\n",
        "\n",
        "$\\circ\\\\\n",
        "\\circ\\ \\circ\\\\\n",
        "\\circ\\ \\ \\circ\\ \\ \\circ\\\\\n",
        "\\circ\\ \\ \\circ\\ \\ \\circ\\ \\ \\circ$\n",
        "\n"
      ]
    },
    {
      "cell_type": "markdown",
      "metadata": {
        "id": "dI6AH11tCDXZ"
      },
      "source": [
        "The mathematical notation for the triangular number is $t_n$.\n",
        "\n",
        "The first one is $t_1=1$,\n",
        "\n",
        "The second one is $t_2=3$\n",
        "\n",
        "Then we have $t_3=6$ and $t_4=10$.\n",
        "\n",
        "As you can imagine this keeps on increasing. \n",
        "\n",
        "**Now pick a very large integer $n$ for example $n=10001023$. We want to find what is the triangular number $t_n=t_{10001023}$.**"
      ]
    },
    {
      "cell_type": "markdown",
      "metadata": {
        "id": "vDW4jhNQCwSD"
      },
      "source": [
        "\n",
        "\n",
        "---\n",
        "\n",
        "\n",
        "\n",
        "---\n",
        "\n",
        "\n",
        "**Python**\n",
        "\n",
        "We hope to build a python code that will help us.\n",
        "\n",
        "I have created a small table called 'small_t' in which I have written the first triangular number. See in the next python cell"
      ]
    },
    {
      "cell_type": "code",
      "metadata": {
        "id": "7etX4ssuDKGl"
      },
      "source": [
        "import math\n",
        "import matplotlib.pyplot as plt\n",
        "import numpy as np\n",
        "\n",
        "\n",
        "small_t = [ 0 , 1 , 3 , 6 , 10 ]"
      ],
      "execution_count": null,
      "outputs": []
    },
    {
      "cell_type": "code",
      "metadata": {
        "colab": {
          "base_uri": "https://localhost:8080/",
          "height": 265
        },
        "id": "XKEZ2g7OMnPR",
        "outputId": "977a5410-e2e4-4702-b69a-351511b42836"
      },
      "source": [
        "# to plot our table we write\n",
        "plt.plot(small_t,'o')\n",
        "plt.plot(small_t)\n",
        "plt.show()"
      ],
      "execution_count": null,
      "outputs": [
        {
          "output_type": "display_data",
          "data": {
            "text/plain": [
              "<Figure size 432x288 with 1 Axes>"
            ],
            "image/png": "[encoded data removed]"
          },
          "metadata": {
            "needs_background": "light"
          }
        }
      ]
    },
    {
      "cell_type": "markdown",
      "metadata": {
        "id": "Ms55d4FYDRBx"
      },
      "source": [
        "You can access the triangular number $t_4$ by simply typing small_t[4] or print(small_t[4]). \n",
        "\n",
        "Please try it in the next python cell.\n",
        "\n",
        "**Question 1:** We want you to print $t_1-t_0$, $t_2-t_1$, $t_3-t_2$ and $t_4-t_3$. What do you understand here?"
      ]
    },
    {
      "cell_type": "code",
      "metadata": {
        "colab": {
          "base_uri": "https://localhost:8080/"
        },
        "id": "CWzrsPclCvs7",
        "outputId": "12a00997-42db-4107-922b-ff6950844950"
      },
      "source": [
        "# type something below\n",
        "print(small_t[4]-small_t[3]) \n"
      ],
      "execution_count": null,
      "outputs": [
        {
          "output_type": "stream",
          "name": "stdout",
          "text": [
            "4\n"
          ]
        }
      ]
    },
    {
      "cell_type": "markdown",
      "metadata": {
        "id": "0GHmlra6EfTq"
      },
      "source": [
        "I think we now can generalise to the following mathematical relation \n",
        "$$\n",
        "t_{n+1}-t_{n}=n+1\n",
        "$$\n",
        "or if you prefer\n",
        "$$\n",
        "t_{n+1}=t_{n}+n+1\n",
        "$$\n",
        "This is really good, because it is giving us a way to generate the new triangular number by simply knowing the previous one.\n",
        "\n",
        "We want you to generate a long list of triangular number. But don't worry, we are going to guide you.\n",
        "\n",
        "First we need to understand what is a python 'for' loop. \n",
        "\n",
        "**Question 2:** We invite you to play around the next 2 examples, see if you can understand what the code is doing."
      ]
    },
    {
      "cell_type": "code",
      "metadata": {
        "colab": {
          "base_uri": "https://localhost:8080/"
        },
        "id": "G2f-s2_oE6YV",
        "outputId": "643fc943-67b7-446c-c016-f55511b88f33"
      },
      "source": [
        "# example 1:\n",
        "for i in range(5) :\n",
        "    print( 'I like cake' )\n",
        "#"
      ],
      "execution_count": null,
      "outputs": [
        {
          "output_type": "stream",
          "name": "stdout",
          "text": [
            "I like cake\n",
            "I like cake\n",
            "I like cake\n",
            "I like cake\n",
            "I like cake\n"
          ]
        }
      ]
    },
    {
      "cell_type": "code",
      "metadata": {
        "colab": {
          "base_uri": "https://localhost:8080/"
        },
        "id": "XALkn4CRENUf",
        "outputId": "2a1eb38e-1d59-4d7b-d370-97e529909e32"
      },
      "source": [
        "# example 2:\n",
        "for i in range(4) :\n",
        "    j=i/2\n",
        "    print(j)\n",
        "# "
      ],
      "execution_count": null,
      "outputs": [
        {
          "output_type": "stream",
          "name": "stdout",
          "text": [
            "0.0\n",
            "0.5\n",
            "1.0\n",
            "1.5\n"
          ]
        }
      ]
    },
    {
      "cell_type": "markdown",
      "metadata": {
        "id": "0JxQ75T5HHyy"
      },
      "source": [
        "Now that I believe you understand what the for loop do in python. It is time to create your own table of triangular number. We are simply going to call it $t$.\n",
        "\n",
        "**Question 3:** To create this table let us put the first two elements 0 and 1 by simply writting t = [ 0 , 1 ] in the next python cell.\n",
        "To make sure it works, you can follow with a new line with print( t ) and also print the length of t with print( len( t ) )"
      ]
    },
    {
      "cell_type": "code",
      "metadata": {
        "id": "AOI-YljtGoIl",
        "colab": {
          "base_uri": "https://localhost:8080/"
        },
        "outputId": "5a53bcb9-05a3-48c1-bdbd-b313d779c0a0"
      },
      "source": [
        "# write your code below...\n",
        "t = [ 0 , 1 ]\n",
        "print( t )\n",
        "print( len( t ) )"
      ],
      "execution_count": null,
      "outputs": [
        {
          "output_type": "stream",
          "name": "stdout",
          "text": [
            "[0, 1]\n",
            "2\n"
          ]
        }
      ]
    },
    {
      "cell_type": "markdown",
      "metadata": {
        "id": "ZswKPzRtHlmY"
      },
      "source": [
        "\n",
        "**Question 4:** to add a new element to this table you could try t.append(3).\n",
        "\n",
        "Then print(t) on the next line and  also print the length of t with print( len( t ) )"
      ]
    },
    {
      "cell_type": "code",
      "metadata": {
        "id": "yfjwpNvfHfDq",
        "colab": {
          "base_uri": "https://localhost:8080/"
        },
        "outputId": "90aa345c-d152-4114-bc56-10b3cd00bf71"
      },
      "source": [
        "# write your code below...\n",
        "t.append(3)\n",
        "print(t)\n",
        "print( len( t ) )"
      ],
      "execution_count": null,
      "outputs": [
        {
          "output_type": "stream",
          "name": "stdout",
          "text": [
            "[0, 1, 3]\n",
            "3\n"
          ]
        }
      ]
    },
    {
      "cell_type": "markdown",
      "metadata": {
        "id": "lg7AKJPSPc_K"
      },
      "source": [
        "\n",
        "**Question 5:** Now of course since we know the formula $t_3=t_2+(2+1)$ we can add the next element by typing t.append(t[2]+(2+1)) \n",
        "\n",
        "try it and print(t) and also print the length of t with print( len( t ) )"
      ]
    },
    {
      "cell_type": "code",
      "metadata": {
        "id": "jcBtv3XwHvFn",
        "colab": {
          "base_uri": "https://localhost:8080/"
        },
        "outputId": "65e4b524-4e93-4daf-939b-7d8ee4a6a22b"
      },
      "source": [
        "# write your code below...\n",
        "t.append(t[2]+(2+1))\n",
        "print(t)\n",
        "print(len(t))"
      ],
      "execution_count": null,
      "outputs": [
        {
          "output_type": "stream",
          "name": "stdout",
          "text": [
            "[0, 1, 3, 6]\n",
            "4\n"
          ]
        }
      ]
    },
    {
      "cell_type": "markdown",
      "metadata": {
        "id": "-_AYgRDGQ-t7"
      },
      "source": [
        "There is a trick if you want to always get the last element of a table you can try t[-1]. \n",
        "\n",
        "So to generate the next element I dont have to write t[3]+4 but simply t[-1]+4.\n",
        "\n",
        "**Question 6:** Try  to add a new element to the table t by using t.append()\n",
        " as well as t[-1]+4. Follow by print(t) and then print(len(t))"
      ]
    },
    {
      "cell_type": "code",
      "metadata": {
        "id": "8Yuwbk0TP2Gp",
        "colab": {
          "base_uri": "https://localhost:8080/"
        },
        "outputId": "49dfa372-2a5b-43e1-b9fb-facb934f8ac2"
      },
      "source": [
        "# write your code below...\n",
        "t.append( t[-1] + 4)\n",
        "print(t)\n",
        "print(len(t))"
      ],
      "execution_count": null,
      "outputs": [
        {
          "output_type": "stream",
          "name": "stdout",
          "text": [
            "[0, 1, 3, 6, 10]\n",
            "5\n"
          ]
        }
      ]
    },
    {
      "cell_type": "markdown",
      "metadata": {
        "id": "NGG_jfx4Rw1F"
      },
      "source": [
        "Did you notice that the number we add everytime is exactly the lenght of the table?\n",
        "\n",
        "**Qestion 7:** Can you come up with a way to add to the table t the next element? using len(t)?"
      ]
    },
    {
      "cell_type": "code",
      "metadata": {
        "id": "BFqq9Aw4Q5Ua",
        "colab": {
          "base_uri": "https://localhost:8080/"
        },
        "outputId": "bed686ee-6f10-4abd-9153-ae3e38d76ad4"
      },
      "source": [
        "# write your code below...\n",
        "t.append( t[-1] + len( t ) )\n",
        "print(t)\n",
        "print(len(t))"
      ],
      "execution_count": null,
      "outputs": [
        {
          "output_type": "stream",
          "name": "stdout",
          "text": [
            "[0, 1, 3, 6, 10, 15]\n",
            "6\n"
          ]
        }
      ]
    },
    {
      "cell_type": "markdown",
      "metadata": {
        "id": "pnVXn6KySMF3"
      },
      "source": [
        "Now we just need to create a loop to repeat this process for a few more steps. \n",
        "\n",
        "**Questions 8:** Try to write you python code using a for loop. Call for helpif you need. And try to plot the table as it was done further up the page."
      ]
    },
    {
      "cell_type": "code",
      "metadata": {
        "id": "e3f_FH2hSGhN",
        "colab": {
          "base_uri": "https://localhost:8080/"
        },
        "outputId": "9a64ed74-e974-4508-c1cb-d75176628eca"
      },
      "source": [
        "# write your code below...\n",
        "for i in range(10):\n",
        "  t.append( t[-1] + len( t ) )\n",
        "print(t)\n",
        "print(len(t))"
      ],
      "execution_count": null,
      "outputs": [
        {
          "output_type": "stream",
          "name": "stdout",
          "text": [
            "[0, 1, 3, 6, 10, 15, 21, 28, 36, 45, 55, 66, 78, 91, 105, 120]\n",
            "16\n"
          ]
        }
      ]
    },
    {
      "cell_type": "markdown",
      "metadata": {
        "id": "8x7T9tedHxd3"
      },
      "source": [
        "**Question 9:** I would like you to try to print $t_i+t_{i+1}$ for a few values of $i$ for example $i=2$, $i=3$, $i=4$, $i=5$  and $i=10$. What do you observe? What mathematical equation can express your observation?"
      ]
    },
    {
      "cell_type": "code",
      "metadata": {
        "id": "QZBCkH9pSgwb",
        "colab": {
          "base_uri": "https://localhost:8080/"
        },
        "outputId": "de714637-8e73-488f-eb55-70e7ec9276b1"
      },
      "source": [
        "# write your code below...\n",
        "print(t[2]+t[3])\n",
        "print(3**2)\n",
        "print(t[3]+t[4])\n",
        "print(4**2)"
      ],
      "execution_count": null,
      "outputs": [
        {
          "output_type": "stream",
          "name": "stdout",
          "text": [
            "9\n",
            "9\n",
            "16\n",
            "16\n"
          ]
        }
      ]
    },
    {
      "cell_type": "markdown",
      "source": [
        "$t_n+t_{n+1}=(n+1)^2$\n",
        "\n",
        "$t_{n+1}-t_n=n+1$\n",
        "\n",
        "$t_n+t_{n+1}+t_{n+1}-t_n=(n+1)^2+n+1$\n",
        "\n",
        "$2t_{n+1}=(n+1)^2+n+1$\n",
        "\n",
        "$2t_{m}=(m)^2+m$\n",
        "\n",
        "$t_m=m(m+1)/2$\n",
        "\n",
        "$t_{200}=200(200+1)/2=100*201=20100$"
      ],
      "metadata": {
        "id": "Nfo76c-31mys"
      }
    },
    {
      "cell_type": "markdown",
      "metadata": {
        "id": "xjBWb7l-Naor"
      },
      "source": [
        "**Question 10**: We create a table n2by2 which is defined by the square of every integers divided by 2.\n",
        "\n",
        "n2by2 = [ $1 / 2$ , $2^2 / 2$ , $3^2 / 2$ , $4^2 / 2$ , ... ]\n",
        "\n",
        " Plot both table t and n2by2. "
      ]
    },
    {
      "cell_type": "code",
      "metadata": {
        "id": "xMWOBCZUNZEC"
      },
      "source": [
        "n2by2 = [ n * n / 2 for n in range( len( t ) ) ]"
      ],
      "execution_count": null,
      "outputs": []
    },
    {
      "cell_type": "code",
      "metadata": {
        "id": "MqaJdEG9IPMN",
        "colab": {
          "base_uri": "https://localhost:8080/",
          "height": 282
        },
        "outputId": "d1846a6a-df05-468e-bd6b-b43afcd4b311"
      },
      "source": [
        "# write your code below...\n",
        "plt.plot(n2by2)\n"
      ],
      "execution_count": null,
      "outputs": [
        {
          "output_type": "execute_result",
          "data": {
            "text/plain": [
              "[<matplotlib.lines.Line2D at 0x7f4b9b978450>]"
            ]
          },
          "metadata": {},
          "execution_count": 30
        },
        {
          "output_type": "display_data",
          "data": {
            "text/plain": [
              "<Figure size 432x288 with 1 Axes>"
            ],
            "image/png": "[encoded data removed]"
          },
          "metadata": {
            "needs_background": "light"
          }
        }
      ]
    },
    {
      "cell_type": "markdown",
      "metadata": {
        "id": "VPWELcofPm96"
      },
      "source": [
        "**Question 11:** In the next section we calculate t - n2by2 we call this new table y.\n",
        "Plot the y table. What do you see?\n",
        "Just remove the # symbol before runing the code"
      ]
    },
    {
      "cell_type": "code",
      "metadata": {
        "id": "8wnTbSHMOCA_"
      },
      "source": [
        "#y = [ t[ n ] - n2by2[ n ] for n in range( len( t ) ) ]\n",
        "#plt.plot(y)\n",
        "#plt.show()\n"
      ],
      "execution_count": null,
      "outputs": []
    }
  ]
}